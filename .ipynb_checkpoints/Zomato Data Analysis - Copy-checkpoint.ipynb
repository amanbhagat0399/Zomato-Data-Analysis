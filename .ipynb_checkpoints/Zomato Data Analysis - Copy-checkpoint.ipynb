{
 "cells": [
  {
   "cell_type": "code",
   "execution_count": null,
   "id": "89b15d72",
   "metadata": {},
   "outputs": [],
   "source": [
    "import pandas as pd\n",
    "\n",
    "df = pd.read_csv('zomato.csv')\n",
    "\n",
    "df.head(2)"
   ]
  },
  {
   "cell_type": "markdown",
   "id": "ef02c104",
   "metadata": {},
   "source": [
    "## Checking if dataset contains any null"
   ]
  },
  {
   "cell_type": "code",
   "execution_count": null,
   "id": "0e4bd88f",
   "metadata": {},
   "outputs": [],
   "source": [
    "## Checking if dataset contains any null\n",
    "\n",
    "nan_values = df.isna()\n",
    "nan_columns = nan_values.any()\n",
    "\n",
    "columns_with_nan = df.columns[nan_columns].tolist()\n",
    "print(columns_with_nan)"
   ]
  },
  {
   "cell_type": "markdown",
   "id": "4101fe8e",
   "metadata": {},
   "source": [
    "* Cuisines seems to contain null values. Hence any further analysis involving Cuisines the NaN values has to be considered.\n",
    "* There is an other file which is also available along with this dataset"
   ]
  },
  {
   "cell_type": "code",
   "execution_count": null,
   "id": "b965023c",
   "metadata": {},
   "outputs": [],
   "source": [
    "df1 = pd.read_excel('Country-Code.xlsx')\n",
    "df1.head()"
   ]
  },
  {
   "cell_type": "markdown",
   "id": "dc77bb24",
   "metadata": {},
   "source": [
    "Let us merge both the datasets. This will help us to understand the dataset country wise."
   ]
  },
  {
   "cell_type": "code",
   "execution_count": null,
   "id": "e5d83e37",
   "metadata": {},
   "outputs": [],
   "source": [
    "df2 = pd.merge(df,df1,on='Country Code',how='left')\n",
    "df2.head(2)"
   ]
  },
  {
   "cell_type": "markdown",
   "id": "c70d679b",
   "metadata": {},
   "source": [
    "## Exploratory Analysis and Visualization\n",
    "Before we ask question on the dataset, it would be helpful to understand the restaurants geographical spread, understanding the rating, Currency, Online Delivery, City coverage…etc.\n",
    "### List of countries the survey is spread across"
   ]
  },
  {
   "cell_type": "code",
   "execution_count": null,
   "id": "633bf9b2",
   "metadata": {},
   "outputs": [],
   "source": [
    "print('List of counteris the survey is spread accross - ')\n",
    "for x in pd.unique(df2.Country): print(x)\n",
    "print()\n",
    "print('Total number to country', len(pd.unique(df2.Country)))"
   ]
  },
  {
   "cell_type": "markdown",
   "id": "dde7c2e6",
   "metadata": {},
   "source": [
    "####  The survey seems to have spread across15 countries. This shows that Zomato is a multinational company having actives business in all those countries."
   ]
  },
  {
   "cell_type": "code",
   "execution_count": null,
   "id": "dbf04b6a",
   "metadata": {},
   "outputs": [],
   "source": [
    "from plotly.offline import init_notebook_mode, plot, iplot\n",
    "\n",
    "labels = list(df2.Country.value_counts().index)\n",
    "values = list(df2.Country.value_counts().values)\n",
    "\n",
    "fig = {\n",
    "    \"data\":[\n",
    "        {\n",
    "            \"labels\" : labels,\n",
    "            \"values\" : values,\n",
    "            \"hoverinfo\" : 'label+percent',\n",
    "            \"domain\": {\"x\": [0, .9]},\n",
    "            \"hole\" : 0.6,\n",
    "            \"type\" : \"pie\",\n",
    "            \"rotation\":120,\n",
    "        },\n",
    "    ],\n",
    "    \"layout\": {\n",
    "        \"title\" : \"Zomato's Presence around the World\",\n",
    "        \"annotations\": [\n",
    "            {\n",
    "                \"font\": {\"size\":20},\n",
    "                \"showarrow\": True,\n",
    "                \"text\": \"Countries\",\n",
    "                \"x\":0.2,\n",
    "                \"y\":0.9,\n",
    "            },\n",
    "        ]\n",
    "    }\n",
    "}\n",
    "\n",
    "iplot(fig)"
   ]
  },
  {
   "cell_type": "markdown",
   "id": "3ca1d923",
   "metadata": {},
   "source": [
    "### As Zomato is a startup from India hence it makes sense that it has maximum business spread across restaurants in India"
   ]
  },
  {
   "cell_type": "markdown",
   "id": "446b6a93",
   "metadata": {},
   "source": [
    "## Understanding the Rating aggregate, color and text"
   ]
  },
  {
   "cell_type": "code",
   "execution_count": null,
   "id": "9bb7f9a9",
   "metadata": {},
   "outputs": [],
   "source": [
    "df3 = df2.groupby(['Aggregate rating','Rating color', 'Rating text']).size().reset_index().rename(columns={0:'Rating Count'})\n",
    "df3\n",
    "df3"
   ]
  },
  {
   "cell_type": "markdown",
   "id": "e8d89300",
   "metadata": {},
   "source": [
    "The above information helps us to understand the realation between Aggregate rating, color and text. We conclude the following color assigned to the ratings:\n",
    "* Rating 0 — White — Not rated\n",
    "* Rating 1.8 to 2.4 — Red — Poor\n",
    "* Rating 2.5 to 3.4 — Orange — Average\n",
    "* Rating 3.5 to 3.9 — Yellow — Good\n",
    "* Rating 4.0 to 4.4 — Green — Very Good\n",
    "* Rating 4.5 to 4.9 — Dark Green — Excellent\n",
    "\n",
    "Let us try to understand the spread of rating across restaurants"
   ]
  },
  {
   "cell_type": "code",
   "execution_count": null,
   "id": "682d8bde",
   "metadata": {},
   "outputs": [],
   "source": [
    "import seaborn as sns\n",
    "import matplotlib\n",
    "import matplotlib.pyplot as plt\n",
    "%matplotlib inline\n",
    "\n",
    "sns.set_style('darkgrid')\n",
    "matplotlib.rcParams['font.size'] = 14\n",
    "matplotlib.rcParams['figure.figsize'] = (9, 5)\n",
    "matplotlib.rcParams['figure.facecolor'] = '#00000000'\n",
    "\n",
    "plt.figure(figsize=(12,6))\n",
    "# plt.xticks(rotation=75)\n",
    "plt.title('Rating Color')\n",
    "sns.barplot(x=df3['Rating color'], y=df3['Rating Count']);"
   ]
  },
  {
   "cell_type": "markdown",
   "id": "08759c24",
   "metadata": {},
   "source": [
    "Interesting, Maximum restaurants seems to have gone No ratings. Let us check if these restaurants belong to some specific country."
   ]
  },
  {
   "cell_type": "code",
   "execution_count": null,
   "id": "40caacbf",
   "metadata": {},
   "outputs": [],
   "source": [
    "No_rating = df2[df2['Rating color']=='White'].groupby('Country').size().reset_index().rename(columns={0:'Rating Count'})\n",
    "No_rating"
   ]
  },
  {
   "cell_type": "markdown",
   "id": "d0a756e1",
   "metadata": {},
   "source": [
    "India seems to have maximum unrated restaurants. In India the culture of ordering online food is still gaining momentum hence most of the restaurants are still unrated on Zomato as people might be preferring to visiting the restaurant for a meal."
   ]
  },
  {
   "cell_type": "markdown",
   "id": "6d21daf3",
   "metadata": {},
   "source": [
    "## Country and Currency"
   ]
  },
  {
   "cell_type": "code",
   "execution_count": null,
   "id": "15725127",
   "metadata": {},
   "outputs": [],
   "source": [
    "country_currency = df2[['Country','Currency']].groupby(['Country','Currency']).size().reset_index(name='count').drop('count', axis=1, inplace=False)\n",
    "country_currency.sort_values('Currency').reset_index(drop=True)"
   ]
  },
  {
   "cell_type": "markdown",
   "id": "35c57bbc",
   "metadata": {},
   "source": [
    "Above table display country and the currency they accept. Interestingly four countries seems to be accepting currency in dollars."
   ]
  },
  {
   "cell_type": "markdown",
   "id": "353eeea2",
   "metadata": {},
   "source": [
    "## Online delivery distribution"
   ]
  },
  {
   "cell_type": "code",
   "execution_count": null,
   "id": "07945578",
   "metadata": {},
   "outputs": [],
   "source": [
    "plt.figure(figsize=(12,6))\n",
    "plt.title('Online Delivery Distribution')\n",
    "plt.pie(df2['Has Online delivery'].value_counts()/9551*100, labels=df2['Has Online delivery'].value_counts().index, autopct='%1.2f%%', startangle=180);"
   ]
  },
  {
   "cell_type": "markdown",
   "id": "8d83aac6",
   "metadata": {},
   "source": [
    "Only 25% of restaurants accepts online delivery. This data might be biased as we have maximum restaurants listed here are from India. Maybe analysis over city wise would be more helpful."
   ]
  },
  {
   "cell_type": "markdown",
   "id": "7e364747",
   "metadata": {},
   "source": [
    "## Let us try to understand the coverage of city"
   ]
  },
  {
   "cell_type": "code",
   "execution_count": null,
   "id": "c5a4eff1",
   "metadata": {},
   "outputs": [],
   "source": [
    "from plotly.offline import init_notebook_mode, plot, iplot\n",
    "import plotly.graph_objs as go\n",
    "plt.figure(figsize=(12,6))\n",
    "# import plotly.plotly as py\n",
    "\n",
    "labels = list(df2.City.value_counts().head(20).index)\n",
    "values = list(df2.City.value_counts().head(20).values)\n",
    "\n",
    "fig = {\n",
    "    \"data\":[\n",
    "        {\n",
    "            \"labels\" : labels,\n",
    "            \"values\" : values,\n",
    "            \"hoverinfo\" : 'label+percent',\n",
    "            \"domain\": {\"x\": [0, .9]},\n",
    "            \"hole\" : 0.6,\n",
    "            \"type\" : \"pie\",\n",
    "            \"rotation\":120,\n",
    "        },\n",
    "    ],\n",
    "    \"layout\": {\n",
    "        \"title\" : \"Zomato's Presence Citywise\",\n",
    "        \"annotations\": [\n",
    "            {\n",
    "                \"font\": {\"size\":20},\n",
    "                \"showarrow\": True,\n",
    "                \"text\": \"Cities\",\n",
    "                \"x\":0.2,\n",
    "                \"y\":0.9,\n",
    "            },\n",
    "        ]\n",
    "    }\n",
    "}\n",
    "iplot(fig);"
   ]
  },
  {
   "cell_type": "markdown",
   "id": "28e114a7",
   "metadata": {},
   "source": [
    "The data seems to be skewed towards New Delhi, Gurgaon and Noida. I see minimal data for other cities. Hence I would do my analysis predominantly on New Delhi.\n",
    "\n",
    "## Asking and Answering Questions\n",
    "\n",
    "We’ve already gained several insights about the restaurants present in the survey. Let’s ask some specific questions and try to answer them using data frame operations and visualizations."
   ]
  },
  {
   "cell_type": "markdown",
   "id": "8b0829f3",
   "metadata": {},
   "source": [
    "# Q1: From which Locality maximum hotels are listed in Zomato"
   ]
  },
  {
   "cell_type": "code",
   "execution_count": null,
   "id": "7927bceb",
   "metadata": {},
   "outputs": [],
   "source": [
    "Delhi = df2[(df2.City == 'New Delhi')]\n",
    "plt.figure(figsize=(12,6))\n",
    "sns.barplot(x=Delhi.Locality.value_counts().head(10), y=Delhi.Locality.value_counts().head(10).index)\n",
    "\n",
    "plt.ylabel(None);\n",
    "plt.xlabel('Number of Resturants')\n",
    "plt.title('Resturants Listing on Zomato');"
   ]
  },
  {
   "cell_type": "markdown",
   "id": "38c72733",
   "metadata": {},
   "source": [
    "Connaught place seems to have high no of restaurants registered with Zomato, Let us understand the cuisines the top rated restaurants has to offer"
   ]
  },
  {
   "cell_type": "markdown",
   "id": "318808d3",
   "metadata": {},
   "source": [
    "## Q2: What kind of Cuisine these highly rates restaurants offer"
   ]
  },
  {
   "cell_type": "code",
   "execution_count": null,
   "id": "af2e1662",
   "metadata": {},
   "outputs": [],
   "source": [
    "# I achieve this by the following steps\n",
    "\n",
    "## Fetching the resturants having 'Excellent' and 'Very Good' rating\n",
    "ConnaughtPlace = Delhi[(Delhi.Locality.isin(['Connaught Place'])) & (Delhi['Rating text'].isin(['Excellent','Very Good']))]\n",
    "\n",
    "ConnaughtPlace = ConnaughtPlace.Cuisines.value_counts().reset_index()\n",
    "\n",
    "## Extracing all the cuisens in a single list\n",
    "cuisien = []\n",
    "for x in ConnaughtPlace['index']: \n",
    "  cuisien.append(x)\n",
    "\n",
    "# cuisien = '[%s]'%', '.join(map(str, cuisien))\n",
    "cuisien"
   ]
  },
  {
   "cell_type": "code",
   "execution_count": null,
   "id": "3d7579e4",
   "metadata": {},
   "outputs": [],
   "source": [
    "from wordcloud import WordCloud, STOPWORDS\n",
    "import matplotlib.pyplot as plt\n",
    "import pandas as pd\n",
    "  \n",
    "comment_words = ''\n",
    "stopwords = set(STOPWORDS)\n",
    "  \n",
    "# iterate through the csv file\n",
    "for val in cuisien:\n",
    "      \n",
    "    # typecaste each val to string\n",
    "    val = str(val)\n",
    "  \n",
    "    # split the value\n",
    "    tokens = val.split()\n",
    "      \n",
    "    # Converts each token into lowercase\n",
    "    for i in range(len(tokens)):\n",
    "        tokens[i] = tokens[i].lower()\n",
    "      \n",
    "    comment_words += \" \".join(tokens)+\" \"\n",
    "  \n",
    "wordcloud = WordCloud(width = 1500, height = 1500,\n",
    "                background_color ='white',\n",
    "                stopwords = stopwords,\n",
    "                min_font_size = 10).generate(comment_words)\n",
    "  \n",
    "# plot the WordCloud image                       \n",
    "plt.figure(figsize = (8, 8), facecolor = 'orange')\n",
    "plt.title('Resturants cuisien -  Top Resturants')\n",
    "plt.imshow(wordcloud)\n",
    "plt.axis(\"off\")\n",
    "plt.tight_layout(pad = 0)\n",
    "  \n",
    "plt.show()"
   ]
  },
  {
   "cell_type": "markdown",
   "id": "a26267f4",
   "metadata": {},
   "source": [
    "Top rated restaurants seems to be doing well in the following cuisine\n",
    "* North Indian\n",
    "* Chinese\n",
    "* Italian\n",
    "* American"
   ]
  },
  {
   "cell_type": "markdown",
   "id": "a8e4db6c",
   "metadata": {},
   "source": [
    "## Q3: How many of such restaurants accept online delivery"
   ]
  },
  {
   "cell_type": "code",
   "execution_count": null,
   "id": "a56edb7e",
   "metadata": {},
   "outputs": [],
   "source": [
    "top_locality = Delhi.Locality.value_counts().head(10)\n",
    "sns.set_theme(style=\"darkgrid\")\n",
    "plt.figure(figsize=(12,6))\n",
    "ax = sns.countplot(y= \"Locality\", hue=\"Has Online delivery\", data=Delhi[Delhi.Locality.isin(top_locality.index)])\n",
    "plt.title('Resturants Online Delivery');"
   ]
  },
  {
   "cell_type": "markdown",
   "id": "0bb019b1",
   "metadata": {},
   "source": [
    "* Apart from Shahdara locality, restaurants in other locality accepts online delivery.\n",
    "* Online Delivery seems to be on higher side in Defence colony and Malviya Nagar"
   ]
  },
  {
   "cell_type": "markdown",
   "id": "f70a51b9",
   "metadata": {},
   "source": [
    "## Q4: Understanding the Restaurants Rating localities."
   ]
  },
  {
   "cell_type": "markdown",
   "id": "b08a7c26",
   "metadata": {},
   "source": [
    "* Apart from Malviya nagar, Defence colony in rest of the locality people seems to prefer visiting the restaurants rather ordering food online.\n",
    "* I would now like to understand the rating of these restaurants that are providing online delivery in Malviya nagar, Defence colony."
   ]
  },
  {
   "attachments": {
    "image.png": {
     "image/png": "[encoded data removed]"
    }
   },
   "cell_type": "markdown",
   "id": "f6b18751",
   "metadata": {},
   "source": [
    "![image.png](attachment:image.png)"
   ]
  },
  {
   "cell_type": "markdown",
   "id": "26fc2352",
   "metadata": {},
   "source": [
    "* Defence colony seems to have high no of highly rated restaurants but Malviya Nagar seems to done better in terms of Good and Average restaurants.\n",
    "* As restaurants with ‘Poor’ and ‘Not Rated’ is far lesser that ‘Good’, ‘Very Good’ and ‘Excellent’ restaurants. Hence people in these localities prefer online ordering"
   ]
  },
  {
   "cell_type": "markdown",
   "id": "4d9e63d7",
   "metadata": {},
   "source": [
    "## Q5: Rating VS Cost of dinning"
   ]
  },
  {
   "cell_type": "code",
   "execution_count": null,
   "id": "5af00e0e",
   "metadata": {},
   "outputs": [],
   "source": [
    "plt.figure(figsize=(12,6))\n",
    "sns.scatterplot(x=\"Average Cost for two\", y=\"Aggregate rating\", hue='Price range', data=Delhi)\n",
    "\n",
    "plt.xlabel(\"Average Cost for two\")\n",
    "plt.ylabel(\"Aggregate rating\")\n",
    "plt.title('Rating vs Cost of Two');"
   ]
  },
  {
   "cell_type": "markdown",
   "id": "73e5cdc6",
   "metadata": {},
   "source": [
    "I observe there is no linear relation between price and rating. For instance, Restaurants with good rating (like 4–5) have restaurants with all the price range and spread across the entire X axis"
   ]
  },
  {
   "cell_type": "markdown",
   "id": "9595c454",
   "metadata": {},
   "source": [
    "## Q6: Location of Highly rated restaurants across New Delhi"
   ]
  },
  {
   "cell_type": "code",
   "execution_count": null,
   "id": "4918a714",
   "metadata": {},
   "outputs": [],
   "source": [
    "Delhi['Rating text'].value_counts()"
   ]
  },
  {
   "cell_type": "code",
   "execution_count": null,
   "id": "13bf5739",
   "metadata": {},
   "outputs": [],
   "source": [
    "import plotly.express as px\n",
    "Highly_rated = Delhi[Delhi['Rating text'].isin(['Excellent'])]\n",
    "\n",
    "fig = px.scatter_mapbox(Highly_rated, lat=\"Latitude\", lon=\"Longitude\", hover_name=\"City\", hover_data=[\"Aggregate rating\", \"Restaurant Name\"],\n",
    "                        color_discrete_sequence=[\"fuchsia\"], zoom=10, height=300)\n",
    "fig.update_layout(mapbox_style=\"open-street-map\")\n",
    "fig.update_layout(margin={\"r\":0,\"t\":0,\"l\":0,\"b\":0})\n",
    "fig.update_layout(title='Highle rated Resturants Location',\n",
    "                  autosize=True,\n",
    "                  hovermode='closest',\n",
    "                  showlegend=False)\n",
    "fig.update_layout(\n",
    "    autosize=False,\n",
    "    width=800,\n",
    "    height=500,)\n",
    "\n",
    "fig.show()"
   ]
  },
  {
   "cell_type": "markdown",
   "id": "9853db9c",
   "metadata": {},
   "source": [
    "The aforementioned four cities represent nearly 65% of the total data available in the dataset. Apart from the higly rated local restaurants, it’d be intersting to know where the known-eateries that are commonplace. The verticles across which these can be located are -\n",
    "* Breakfast\n",
    "* American Fast Food\n",
    "* Ice Creams, Shakes & Desserts"
   ]
  },
  {
   "cell_type": "markdown",
   "id": "516a1950",
   "metadata": {},
   "source": [
    "## Q7: Common Eateries"
   ]
  },
  {
   "cell_type": "markdown",
   "id": "8b860d03",
   "metadata": {},
   "source": [
    "###  1: Breakfast and Coffee locations"
   ]
  },
  {
   "cell_type": "code",
   "execution_count": null,
   "id": "3b95ab29",
   "metadata": {},
   "outputs": [],
   "source": [
    "types = {\n",
    "    \"Breakfast and Coffee\" : [\"Cafe Coffee Day\", \"Starbucks\", \"Barista\", \"Costa Coffee\", \"Chaayos\", \"Dunkin' Donuts\"],\n",
    "    \"American\": [\"Domino's Pizza\", \"McDonald's\", \"Burger King\", \"Subway\", \"Dunkin' Donuts\", \"Pizza Hut\"],\n",
    "    \"Ice Creams and Shakes\": [\"Keventers\", \"Giani\", \"Giani's\", \"Starbucks\", \"Baskin Robbins\", \"Nirula's Ice Cream\"]\n",
    "}\n",
    "\n",
    "breakfast = Delhi[Delhi['Restaurant Name'].isin(types['Breakfast and Coffee'])]\n",
    "american = Delhi[Delhi['Restaurant Name'].isin(types['American'])]\n",
    "ice_cream = Delhi[Delhi['Restaurant Name'].isin(types['Ice Creams and Shakes'])]"
   ]
  },
  {
   "cell_type": "code",
   "execution_count": null,
   "id": "37a110c0",
   "metadata": {},
   "outputs": [],
   "source": [
    "breakfast = breakfast[['Restaurant Name','Aggregate rating']].groupby('Restaurant Name').mean().reset_index().sort_values('Aggregate rating',ascending=False)\n",
    "breakfast"
   ]
  },
  {
   "cell_type": "code",
   "execution_count": null,
   "id": "9b69f687",
   "metadata": {},
   "outputs": [],
   "source": [
    "import plotly.express as px\n",
    "\n",
    "df= breakfast\n",
    "fig = px.bar(df, y='Aggregate rating', x='Restaurant Name', text='Aggregate rating', title=\"Breakfast and Coffee locations\")\n",
    "fig.update_traces(texttemplate='%{text:.3s}', textposition='outside')\n",
    "fig.update_layout(\n",
    "    autosize=False,\n",
    "    width=800,\n",
    "    height=500,)\n",
    "fig.show()"
   ]
  },
  {
   "cell_type": "markdown",
   "id": "2187d201",
   "metadata": {},
   "source": [
    "Chaayos outlets are doing better. We need more of those in Delhi. Café coffee day seems to be performing poorly in avg rating. They are required to improve their services."
   ]
  },
  {
   "cell_type": "markdown",
   "id": "d284fede",
   "metadata": {},
   "source": [
    "### 2: Fast Food Restaurants"
   ]
  },
  {
   "cell_type": "code",
   "execution_count": null,
   "id": "6f9b46e3",
   "metadata": {},
   "outputs": [],
   "source": [
    "american = american[['Restaurant Name','Aggregate rating']].groupby('Restaurant Name').mean().reset_index().sort_values('Aggregate rating',ascending=False)\n",
    "american"
   ]
  },
  {
   "cell_type": "code",
   "execution_count": null,
   "id": "f355b361",
   "metadata": {},
   "outputs": [],
   "source": [
    "import plotly.express as px\n",
    "\n",
    "df= american\n",
    "fig = px.bar(df, y='Aggregate rating', x='Restaurant Name', text='Aggregate rating', title=\"Fast Food Resturants\")\n",
    "fig.update_traces(texttemplate='%{text:.3s}', textposition='outside')\n",
    "fig.update_layout(\n",
    "    autosize=False,\n",
    "    width=800,\n",
    "    height=500,)\n",
    "\n",
    "fig.show()"
   ]
  },
  {
   "cell_type": "markdown",
   "id": "e6f6c5db",
   "metadata": {},
   "source": [
    "### 3: Ice Cream Parlors"
   ]
  },
  {
   "cell_type": "code",
   "execution_count": null,
   "id": "cbe58bec",
   "metadata": {},
   "outputs": [],
   "source": [
    "ice_cream = ice_cream[['Restaurant Name','Aggregate rating']].groupby('Restaurant Name').mean().reset_index().sort_values('Aggregate rating',ascending=False)\n",
    "ice_cream"
   ]
  },
  {
   "cell_type": "code",
   "execution_count": null,
   "id": "f0b7d832",
   "metadata": {},
   "outputs": [],
   "source": [
    "import plotly.express as px\n",
    "\n",
    "df= ice_cream\n",
    "fig = px.bar(df, y='Aggregate rating', x='Restaurant Name', text='Aggregate rating', title=\"Ice Cream Parlours\")\n",
    "fig.update_traces(texttemplate='%{text:.3s}', textposition='outside')\n",
    "fig.update_layout(\n",
    "    autosize=False,\n",
    "    width=800,\n",
    "    height=500,)\n",
    "fig.show()\n"
   ]
  },
  {
   "cell_type": "markdown",
   "id": "bf1aba73",
   "metadata": {},
   "source": [
    "Foreign brands seems to be doing better than the local brands"
   ]
  },
  {
   "cell_type": "markdown",
   "id": "7ff9555a",
   "metadata": {},
   "source": [
    "## Inferences and Conclusions"
   ]
  },
  {
   "cell_type": "markdown",
   "id": "0a6a5861",
   "metadata": {},
   "source": [
    "We’ve drawn many inferences from the survey. Here’s a summary of a few of them:\n",
    "* The dataset is skewed towards India and doesn't represent the complete data of restaurants worldwide.\n",
    "* Restaurants rating is categorized in categories\n",
    "   * Not Rated\n",
    "   * Average\n",
    "   * Good\n",
    "   * Very Good\n",
    "   * Excellent\n",
    "* Connaught Palace have maximum restaurants listed on Zomato but in terms of online delivery acceptance Defence colony and Malviya nagar seems to be doing better.\n",
    "* The top rated restaurants seems to be getting better rating on the following cuisine\n",
    "    * North Indian\n",
    "    * Chinese\n",
    "    * American\n",
    "    * Italian\n",
    "* There is no relation between cost and rating. Some of the best rated restaurants are low on cost and vice versa.\n",
    "* On common Eateries, For Breakfast and Coffee location Indian restaurants seems to be better rated but for Fast food chain and Ice cream parlors American restaurants seems to be doing better."
   ]
  },
  {
   "cell_type": "code",
   "execution_count": null,
   "id": "ed03a023",
   "metadata": {},
   "outputs": [],
   "source": []
  }
 ],
 "metadata": {
  "kernelspec": {
   "display_name": "Python 3",
   "language": "python",
   "name": "python3"
  },
  "language_info": {
   "codemirror_mode": {
    "name": "ipython",
    "version": 3
   },
   "file_extension": ".py",
   "mimetype": "text/x-python",
   "name": "python",
   "nbconvert_exporter": "python",
   "pygments_lexer": "ipython3",
   "version": "3.8.1"
  }
 },
 "nbformat": 4,
 "nbformat_minor": 5
}
